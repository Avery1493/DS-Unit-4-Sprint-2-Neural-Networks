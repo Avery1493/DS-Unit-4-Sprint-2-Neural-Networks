{
  "nbformat": 4,
  "nbformat_minor": 0,
  "metadata": {
    "colab": {
      "name": "LS_DS_423_Keras_Assignment.ipynb",
      "provenance": [],
      "collapsed_sections": [],
      "include_colab_link": true
    },
    "kernelspec": {
      "display_name": "Python 3",
      "language": "python",
      "name": "python3"
    },
    "language_info": {
      "codemirror_mode": {
        "name": "ipython",
        "version": 3
      },
      "file_extension": ".py",
      "mimetype": "text/x-python",
      "name": "python",
      "nbconvert_exporter": "python",
      "pygments_lexer": "ipython3",
      "version": "3.7.3"
    }
  },
  "cells": [
    {
      "cell_type": "markdown",
      "metadata": {
        "id": "view-in-github",
        "colab_type": "text"
      },
      "source": [
        "<a href=\"https://colab.research.google.com/github/Avery1493/DS-Unit-4-Sprint-2-Neural-Networks/blob/master/module3-Intro-to-Keras/LS_DS_423_Keras_Assignment.ipynb\" target=\"_parent\"><img src=\"https://colab.research.google.com/assets/colab-badge.svg\" alt=\"Open In Colab\"/></a>"
      ]
    },
    {
      "cell_type": "markdown",
      "metadata": {
        "colab_type": "text",
        "id": "pBQsZEJmubLs"
      },
      "source": [
        "<img align=\"left\" src=\"https://lever-client-logos.s3.amazonaws.com/864372b1-534c-480e-acd5-9711f850815c-1524247202159.png\" width=200>\n",
        "<br></br>\n",
        "\n",
        "# Neural Network Framework (Keras)\n",
        "\n",
        "## *Data Science Unit 4 Sprint 2 Assignment 3*\n",
        "\n",
        "## Use the Keras Library to build a Multi-Layer Perceptron Model on the Boston Housing dataset\n",
        "\n",
        "- The Boston Housing dataset comes with the Keras library so use Keras to import it into your notebook. \n",
        "- Normalize the data (all features should have roughly the same scale)\n",
        "- Import the type of model and layers that you will need from Keras.\n",
        "- Instantiate a model object and use `model.add()` to add layers to your model\n",
        "- Since this is a regression model you will have a single output node in the final layer.\n",
        "- Use activation functions that are appropriate for this task\n",
        "- Compile your model\n",
        "- Fit your model and report its accuracy in terms of Mean Squared Error\n",
        "- Use the history object that is returned from model.fit to make graphs of the model's loss or train/validation accuracies by epoch. \n",
        "- Run this same data through a linear regression model. Which achieves higher accuracy?\n",
        "- Do a little bit of feature engineering and see how that affects your neural network model. (you will need to change your model to accept more inputs)\n",
        "- After feature engineering, which model sees a greater accuracy boost due to the new features?"
      ]
    },
    {
      "cell_type": "code",
      "metadata": {
        "colab_type": "code",
        "id": "8NLTAR87uYJ-",
        "colab": {}
      },
      "source": [
        "# Imports\n",
        "import numpy as np\n",
        "import pandas as pd\n",
        "\n",
        "from sklearn.preprocessing import MinMaxScaler, Normalizer\n",
        "from tensorflow.keras.models import Sequential\n",
        "from tensorflow.keras.layers import Dense, Flatten, Dropout\n",
        "from tensorflow.keras.callbacks import EarlyStopping\n",
        "\n",
        "from sklearn.linear_model import LinearRegression\n",
        "from sklearn.metrics import mean_squared_error "
      ],
      "execution_count": 0,
      "outputs": []
    },
    {
      "cell_type": "code",
      "metadata": {
        "id": "Tpwdlb0OX2YR",
        "colab_type": "code",
        "colab": {
          "base_uri": "https://localhost:8080/",
          "height": 51
        },
        "outputId": "4afcc1b0-793f-49eb-fda9-b4db72083c25"
      },
      "source": [
        "# Load Boton housing dataset\n",
        "from tensorflow.keras.datasets import boston_housing\n",
        "(x_train, y_train), (x_test, y_test) = boston_housing.load_data()"
      ],
      "execution_count": 2,
      "outputs": [
        {
          "output_type": "stream",
          "text": [
            "Downloading data from https://storage.googleapis.com/tensorflow/tf-keras-datasets/boston_housing.npz\n",
            "57344/57026 [==============================] - 0s 0us/step\n"
          ],
          "name": "stdout"
        }
      ]
    },
    {
      "cell_type": "code",
      "metadata": {
        "id": "07T-9nCMZYaC",
        "colab_type": "code",
        "outputId": "bb368789-fbf4-4881-eadf-74a07506bc2e",
        "colab": {
          "base_uri": "https://localhost:8080/",
          "height": 85
        }
      },
      "source": [
        "print(x_train.shape)\n",
        "print(x_test.shape)\n",
        "print(y_train.shape)\n",
        "print(y_test.shape)"
      ],
      "execution_count": 3,
      "outputs": [
        {
          "output_type": "stream",
          "text": [
            "(404, 13)\n",
            "(102, 13)\n",
            "(404,)\n",
            "(102,)\n"
          ],
          "name": "stdout"
        }
      ]
    },
    {
      "cell_type": "code",
      "metadata": {
        "id": "VbpwR8hhZYhT",
        "colab_type": "code",
        "colab": {}
      },
      "source": [
        "# Scale Date\n",
        "scaler = MinMaxScaler()\n",
        "X_train = scaler.fit_transform(x_train)\n",
        "X_test = scaler.fit_transform(x_test)"
      ],
      "execution_count": 0,
      "outputs": []
    },
    {
      "cell_type": "code",
      "metadata": {
        "id": "0JqZo5m4iAHt",
        "colab_type": "code",
        "outputId": "6f788655-8dac-43b8-fba8-cb041b56c6e6",
        "colab": {
          "base_uri": "https://localhost:8080/",
          "height": 34
        }
      },
      "source": [
        "X_train.shape"
      ],
      "execution_count": 5,
      "outputs": [
        {
          "output_type": "execute_result",
          "data": {
            "text/plain": [
              "(404, 13)"
            ]
          },
          "metadata": {
            "tags": []
          },
          "execution_count": 5
        }
      ]
    },
    {
      "cell_type": "code",
      "metadata": {
        "id": "Tdszx6-FeVcD",
        "colab_type": "code",
        "colab": {}
      },
      "source": [
        "# Model\n",
        "model = Sequential()\n",
        "model.add(Dense(10, input_dim = 13, activation='relu'))\n",
        "model.add(Dense(1))"
      ],
      "execution_count": 0,
      "outputs": []
    },
    {
      "cell_type": "code",
      "metadata": {
        "id": "7PgOIPZpeVZG",
        "colab_type": "code",
        "colab": {}
      },
      "source": [
        "# Compile Model\n",
        "model.compile(loss='mse', optimizer='adam', metrics=['mse'])"
      ],
      "execution_count": 0,
      "outputs": []
    },
    {
      "cell_type": "code",
      "metadata": {
        "id": "M163XDUceVW5",
        "colab_type": "code",
        "colab": {
          "base_uri": "https://localhost:8080/",
          "height": 1000
        },
        "outputId": "2702d887-c9bf-428f-920a-c5857d2054e3"
      },
      "source": [
        "# Fit Model\n",
        "from matplotlib import pyplot\n",
        "\n",
        "history = model.fit(X_train, y_train, epochs=100)\n",
        "\n",
        "# plot metrics\n",
        "pyplot.plot(history.history['loss'])\n",
        "pyplot.plot(history.history['mse'])\n",
        "pyplot.show()"
      ],
      "execution_count": 8,
      "outputs": [
        {
          "output_type": "stream",
          "text": [
            "Epoch 1/100\n",
            "13/13 [==============================] - 0s 2ms/step - loss: 577.6794 - mse: 579.2416\n",
            "Epoch 2/100\n",
            "13/13 [==============================] - 0s 1ms/step - loss: 573.8351 - mse: 573.9460\n",
            "Epoch 3/100\n",
            "13/13 [==============================] - 0s 2ms/step - loss: 561.9232 - mse: 568.6267\n",
            "Epoch 4/100\n",
            "13/13 [==============================] - 0s 1ms/step - loss: 559.2126 - mse: 563.2057\n",
            "Epoch 5/100\n",
            "13/13 [==============================] - 0s 1ms/step - loss: 555.7304 - mse: 557.4097\n",
            "Epoch 6/100\n",
            "13/13 [==============================] - 0s 1ms/step - loss: 555.2103 - mse: 551.1860\n",
            "Epoch 7/100\n",
            "13/13 [==============================] - 0s 1ms/step - loss: 541.0121 - mse: 544.3887\n",
            "Epoch 8/100\n",
            "13/13 [==============================] - 0s 1ms/step - loss: 533.7747 - mse: 536.8962\n",
            "Epoch 9/100\n",
            "13/13 [==============================] - 0s 1ms/step - loss: 530.0792 - mse: 528.8186\n",
            "Epoch 10/100\n",
            "13/13 [==============================] - 0s 1ms/step - loss: 516.2645 - mse: 520.2433\n",
            "Epoch 11/100\n",
            "13/13 [==============================] - 0s 2ms/step - loss: 513.3203 - mse: 510.8423\n",
            "Epoch 12/100\n",
            "13/13 [==============================] - 0s 1ms/step - loss: 506.7970 - mse: 501.0313\n",
            "Epoch 13/100\n",
            "13/13 [==============================] - 0s 1ms/step - loss: 487.3094 - mse: 490.6888\n",
            "Epoch 14/100\n",
            "13/13 [==============================] - 0s 1ms/step - loss: 486.8365 - mse: 479.7585\n",
            "Epoch 15/100\n",
            "13/13 [==============================] - 0s 1ms/step - loss: 466.6703 - mse: 468.3839\n",
            "Epoch 16/100\n",
            "13/13 [==============================] - 0s 1ms/step - loss: 459.6552 - mse: 456.6647\n",
            "Epoch 17/100\n",
            "13/13 [==============================] - 0s 1ms/step - loss: 445.7660 - mse: 444.4936\n",
            "Epoch 18/100\n",
            "13/13 [==============================] - 0s 2ms/step - loss: 435.2668 - mse: 432.1649\n",
            "Epoch 19/100\n",
            "13/13 [==============================] - 0s 1ms/step - loss: 414.8483 - mse: 419.3650\n",
            "Epoch 20/100\n",
            "13/13 [==============================] - 0s 1ms/step - loss: 403.6678 - mse: 406.5847\n",
            "Epoch 21/100\n",
            "13/13 [==============================] - 0s 1ms/step - loss: 389.9953 - mse: 393.6962\n",
            "Epoch 22/100\n",
            "13/13 [==============================] - 0s 2ms/step - loss: 380.5413 - mse: 380.4895\n",
            "Epoch 23/100\n",
            "13/13 [==============================] - 0s 1ms/step - loss: 365.4155 - mse: 367.5535\n",
            "Epoch 24/100\n",
            "13/13 [==============================] - 0s 1ms/step - loss: 352.0571 - mse: 354.4447\n",
            "Epoch 25/100\n",
            "13/13 [==============================] - 0s 1ms/step - loss: 344.6053 - mse: 341.4635\n",
            "Epoch 26/100\n",
            "13/13 [==============================] - 0s 2ms/step - loss: 328.4746 - mse: 328.7050\n",
            "Epoch 27/100\n",
            "13/13 [==============================] - 0s 1ms/step - loss: 315.8333 - mse: 315.9768\n",
            "Epoch 28/100\n",
            "13/13 [==============================] - 0s 1ms/step - loss: 305.7363 - mse: 303.7055\n",
            "Epoch 29/100\n",
            "13/13 [==============================] - 0s 1ms/step - loss: 289.2184 - mse: 291.3684\n",
            "Epoch 30/100\n",
            "13/13 [==============================] - 0s 1ms/step - loss: 277.4265 - mse: 279.7798\n",
            "Epoch 31/100\n",
            "13/13 [==============================] - 0s 2ms/step - loss: 267.3452 - mse: 268.1758\n",
            "Epoch 32/100\n",
            "13/13 [==============================] - 0s 1ms/step - loss: 256.6598 - mse: 257.3570\n",
            "Epoch 33/100\n",
            "13/13 [==============================] - 0s 1ms/step - loss: 246.6546 - mse: 246.5909\n",
            "Epoch 34/100\n",
            "13/13 [==============================] - 0s 1ms/step - loss: 234.0843 - mse: 236.5672\n",
            "Epoch 35/100\n",
            "13/13 [==============================] - 0s 1ms/step - loss: 229.1991 - mse: 227.0314\n",
            "Epoch 36/100\n",
            "13/13 [==============================] - 0s 2ms/step - loss: 221.8648 - mse: 217.5742\n",
            "Epoch 37/100\n",
            "13/13 [==============================] - 0s 1ms/step - loss: 208.6488 - mse: 209.0305\n",
            "Epoch 38/100\n",
            "13/13 [==============================] - 0s 1ms/step - loss: 198.1542 - mse: 200.9361\n",
            "Epoch 39/100\n",
            "13/13 [==============================] - 0s 1ms/step - loss: 191.8039 - mse: 192.9699\n",
            "Epoch 40/100\n",
            "13/13 [==============================] - 0s 2ms/step - loss: 185.3633 - mse: 185.9455\n",
            "Epoch 41/100\n",
            "13/13 [==============================] - 0s 1ms/step - loss: 181.9484 - mse: 179.2674\n",
            "Epoch 42/100\n",
            "13/13 [==============================] - 0s 1ms/step - loss: 171.4535 - mse: 173.1200\n",
            "Epoch 43/100\n",
            "13/13 [==============================] - 0s 1ms/step - loss: 168.0940 - mse: 167.4187\n",
            "Epoch 44/100\n",
            "13/13 [==============================] - 0s 1ms/step - loss: 160.9655 - mse: 161.9141\n",
            "Epoch 45/100\n",
            "13/13 [==============================] - 0s 2ms/step - loss: 155.4959 - mse: 157.2285\n",
            "Epoch 46/100\n",
            "13/13 [==============================] - 0s 1ms/step - loss: 151.6024 - mse: 152.7444\n",
            "Epoch 47/100\n",
            "13/13 [==============================] - 0s 1ms/step - loss: 148.4703 - mse: 148.6501\n",
            "Epoch 48/100\n",
            "13/13 [==============================] - 0s 1ms/step - loss: 144.5765 - mse: 144.8649\n",
            "Epoch 49/100\n",
            "13/13 [==============================] - 0s 1ms/step - loss: 145.2489 - mse: 141.4902\n",
            "Epoch 50/100\n",
            "13/13 [==============================] - 0s 1ms/step - loss: 138.4786 - mse: 138.4014\n",
            "Epoch 51/100\n",
            "13/13 [==============================] - 0s 2ms/step - loss: 134.7682 - mse: 135.5002\n",
            "Epoch 52/100\n",
            "13/13 [==============================] - 0s 1ms/step - loss: 133.7625 - mse: 132.8570\n",
            "Epoch 53/100\n",
            "13/13 [==============================] - 0s 1ms/step - loss: 131.8319 - mse: 130.3072\n",
            "Epoch 54/100\n",
            "13/13 [==============================] - 0s 1ms/step - loss: 130.3154 - mse: 128.1337\n",
            "Epoch 55/100\n",
            "13/13 [==============================] - 0s 1ms/step - loss: 127.4766 - mse: 126.1158\n",
            "Epoch 56/100\n",
            "13/13 [==============================] - 0s 1ms/step - loss: 124.0369 - mse: 124.2565\n",
            "Epoch 57/100\n",
            "13/13 [==============================] - 0s 1ms/step - loss: 122.4965 - mse: 122.4138\n",
            "Epoch 58/100\n",
            "13/13 [==============================] - 0s 1ms/step - loss: 121.5512 - mse: 120.8170\n",
            "Epoch 59/100\n",
            "13/13 [==============================] - 0s 1ms/step - loss: 118.1063 - mse: 119.2638\n",
            "Epoch 60/100\n",
            "13/13 [==============================] - 0s 2ms/step - loss: 117.5284 - mse: 117.8938\n",
            "Epoch 61/100\n",
            "13/13 [==============================] - 0s 2ms/step - loss: 114.7672 - mse: 116.4541\n",
            "Epoch 62/100\n",
            "13/13 [==============================] - 0s 2ms/step - loss: 115.0369 - mse: 115.1800\n",
            "Epoch 63/100\n",
            "13/13 [==============================] - 0s 1ms/step - loss: 114.3926 - mse: 113.9256\n",
            "Epoch 64/100\n",
            "13/13 [==============================] - 0s 2ms/step - loss: 113.5371 - mse: 112.6946\n",
            "Epoch 65/100\n",
            "13/13 [==============================] - 0s 2ms/step - loss: 111.5603 - mse: 111.5131\n",
            "Epoch 66/100\n",
            "13/13 [==============================] - 0s 2ms/step - loss: 109.7589 - mse: 110.3835\n",
            "Epoch 67/100\n",
            "13/13 [==============================] - 0s 1ms/step - loss: 108.2603 - mse: 109.2985\n",
            "Epoch 68/100\n",
            "13/13 [==============================] - 0s 1ms/step - loss: 109.3571 - mse: 108.1663\n",
            "Epoch 69/100\n",
            "13/13 [==============================] - 0s 2ms/step - loss: 106.3561 - mse: 107.1334\n",
            "Epoch 70/100\n",
            "13/13 [==============================] - 0s 1ms/step - loss: 106.3303 - mse: 106.1171\n",
            "Epoch 71/100\n",
            "13/13 [==============================] - 0s 1ms/step - loss: 104.3849 - mse: 105.0796\n",
            "Epoch 72/100\n",
            "13/13 [==============================] - 0s 1ms/step - loss: 105.0217 - mse: 104.0836\n",
            "Epoch 73/100\n",
            "13/13 [==============================] - 0s 1ms/step - loss: 103.5376 - mse: 103.0972\n",
            "Epoch 74/100\n",
            "13/13 [==============================] - 0s 1ms/step - loss: 100.6861 - mse: 102.1474\n",
            "Epoch 75/100\n",
            "13/13 [==============================] - 0s 2ms/step - loss: 102.3902 - mse: 101.1644\n",
            "Epoch 76/100\n",
            "13/13 [==============================] - 0s 1ms/step - loss: 100.2546 - mse: 100.2320\n",
            "Epoch 77/100\n",
            "13/13 [==============================] - 0s 1ms/step - loss: 98.1803 - mse: 99.3007\n",
            "Epoch 78/100\n",
            "13/13 [==============================] - 0s 1ms/step - loss: 100.3552 - mse: 98.3619\n",
            "Epoch 79/100\n",
            "13/13 [==============================] - 0s 1ms/step - loss: 98.0158 - mse: 97.4539\n",
            "Epoch 80/100\n",
            "13/13 [==============================] - 0s 1ms/step - loss: 95.5231 - mse: 96.5758\n",
            "Epoch 81/100\n",
            "13/13 [==============================] - 0s 2ms/step - loss: 96.4288 - mse: 95.6685\n",
            "Epoch 82/100\n",
            "13/13 [==============================] - 0s 1ms/step - loss: 94.4892 - mse: 94.7497\n",
            "Epoch 83/100\n",
            "13/13 [==============================] - 0s 1ms/step - loss: 94.7749 - mse: 93.8602\n",
            "Epoch 84/100\n",
            "13/13 [==============================] - 0s 1ms/step - loss: 93.3181 - mse: 92.9787\n",
            "Epoch 85/100\n",
            "13/13 [==============================] - 0s 1ms/step - loss: 90.8770 - mse: 92.1297\n",
            "Epoch 86/100\n",
            "13/13 [==============================] - 0s 1ms/step - loss: 89.9015 - mse: 91.2496\n",
            "Epoch 87/100\n",
            "13/13 [==============================] - 0s 2ms/step - loss: 90.8667 - mse: 90.4605\n",
            "Epoch 88/100\n",
            "13/13 [==============================] - 0s 1ms/step - loss: 91.4881 - mse: 89.6053\n",
            "Epoch 89/100\n",
            "13/13 [==============================] - 0s 1ms/step - loss: 90.1445 - mse: 88.7729\n",
            "Epoch 90/100\n",
            "13/13 [==============================] - 0s 1ms/step - loss: 88.2548 - mse: 87.9685\n",
            "Epoch 91/100\n",
            "13/13 [==============================] - 0s 2ms/step - loss: 86.7689 - mse: 87.1698\n",
            "Epoch 92/100\n",
            "13/13 [==============================] - 0s 1ms/step - loss: 86.3129 - mse: 86.3782\n",
            "Epoch 93/100\n",
            "13/13 [==============================] - 0s 2ms/step - loss: 85.8234 - mse: 85.5722\n",
            "Epoch 94/100\n",
            "13/13 [==============================] - 0s 1ms/step - loss: 84.7080 - mse: 84.8202\n",
            "Epoch 95/100\n",
            "13/13 [==============================] - 0s 1ms/step - loss: 86.9616 - mse: 84.0336\n",
            "Epoch 96/100\n",
            "13/13 [==============================] - 0s 2ms/step - loss: 83.0988 - mse: 83.3006\n",
            "Epoch 97/100\n",
            "13/13 [==============================] - 0s 1ms/step - loss: 82.4902 - mse: 82.5215\n",
            "Epoch 98/100\n",
            "13/13 [==============================] - 0s 2ms/step - loss: 81.1014 - mse: 81.7851\n",
            "Epoch 99/100\n",
            "13/13 [==============================] - 0s 1ms/step - loss: 81.3763 - mse: 81.0856\n",
            "Epoch 100/100\n",
            "13/13 [==============================] - 0s 1ms/step - loss: 81.8756 - mse: 80.3283\n"
          ],
          "name": "stdout"
        },
        {
          "output_type": "display_data",
          "data": {
            "image/png": "[encoded data removed]",
            "text/plain": [
              "<Figure size 432x288 with 1 Axes>"
            ]
          },
          "metadata": {
            "tags": [],
            "needs_background": "light"
          }
        }
      ]
    },
    {
      "cell_type": "code",
      "metadata": {
        "id": "lvvQqdtJeVS0",
        "colab_type": "code",
        "outputId": "48f14a46-c101-4a43-c9b9-cee967f69563",
        "colab": {
          "base_uri": "https://localhost:8080/",
          "height": 51
        }
      },
      "source": [
        "# Evaluate Model\n",
        "model.evaluate(X_test, y_test)"
      ],
      "execution_count": 9,
      "outputs": [
        {
          "output_type": "stream",
          "text": [
            "4/4 [==============================] - 0s 2ms/step - loss: 104.3302 - mse: 87.3051\n"
          ],
          "name": "stdout"
        },
        {
          "output_type": "execute_result",
          "data": {
            "text/plain": [
              "[104.33016204833984, 87.3050537109375]"
            ]
          },
          "metadata": {
            "tags": []
          },
          "execution_count": 9
        }
      ]
    },
    {
      "cell_type": "code",
      "metadata": {
        "id": "ubQl-ALTqCcy",
        "colab_type": "code",
        "outputId": "35dc3779-511b-4ce7-9b4e-3830b02fb2ac",
        "colab": {
          "base_uri": "https://localhost:8080/",
          "height": 34
        }
      },
      "source": [
        "model = LinearRegression()\n",
        "model.fit(X_train, y_train)"
      ],
      "execution_count": 10,
      "outputs": [
        {
          "output_type": "execute_result",
          "data": {
            "text/plain": [
              "LinearRegression(copy_X=True, fit_intercept=True, n_jobs=None, normalize=False)"
            ]
          },
          "metadata": {
            "tags": []
          },
          "execution_count": 10
        }
      ]
    },
    {
      "cell_type": "code",
      "metadata": {
        "id": "1dDFLCfHqCYT",
        "colab_type": "code",
        "colab": {}
      },
      "source": [
        "y_pred = model.predict(X_test)"
      ],
      "execution_count": 0,
      "outputs": []
    },
    {
      "cell_type": "code",
      "metadata": {
        "id": "Ll3vTT9iq7s1",
        "colab_type": "code",
        "outputId": "200ec36b-ad00-43f3-ea7d-e825a5cde0da",
        "colab": {
          "base_uri": "https://localhost:8080/",
          "height": 34
        }
      },
      "source": [
        "mean_squared_error(y_test,y_pred)"
      ],
      "execution_count": 12,
      "outputs": [
        {
          "output_type": "execute_result",
          "data": {
            "text/plain": [
              "40.60145446671504"
            ]
          },
          "metadata": {
            "tags": []
          },
          "execution_count": 12
        }
      ]
    },
    {
      "cell_type": "markdown",
      "metadata": {
        "colab_type": "text",
        "id": "SfcFnOONyuNm"
      },
      "source": [
        "## Use the Keras Library to build an image recognition network using the Fashion-MNIST dataset (also comes with keras)\n",
        "\n",
        "- Load and preprocess the image data similar to how we preprocessed the MNIST data in class.\n",
        "- Make sure to one-hot encode your category labels\n",
        "- The number of nodes in your output layer should equal the number of classes you want to predict for Fashion-MNIST.\n",
        "- Try different hyperparameters. What is the highest accuracy that you are able to achieve.\n",
        "- Use the history object that is returned from model.fit to make graphs of the model's loss or train/validation accuracies by epoch. \n",
        "- Remember that neural networks fall prey to randomness so you may need to run your model multiple times (or use Cross Validation) in order to tell if a change to a hyperparameter is truly producing better results."
      ]
    },
    {
      "cell_type": "code",
      "metadata": {
        "colab_type": "code",
        "id": "szi6-IpuzaH1",
        "colab": {
          "base_uri": "https://localhost:8080/",
          "height": 153
        },
        "outputId": "21f968e9-e5cf-48f5-8350-cdde12aad8f5"
      },
      "source": [
        "# Load data\n",
        "from tensorflow.keras.datasets import fashion_mnist\n",
        "(x_train, y_train), (x_test, y_test) = fashion_mnist.load_data()"
      ],
      "execution_count": 13,
      "outputs": [
        {
          "output_type": "stream",
          "text": [
            "Downloading data from https://storage.googleapis.com/tensorflow/tf-keras-datasets/train-labels-idx1-ubyte.gz\n",
            "32768/29515 [=================================] - 0s 0us/step\n",
            "Downloading data from https://storage.googleapis.com/tensorflow/tf-keras-datasets/train-images-idx3-ubyte.gz\n",
            "26427392/26421880 [==============================] - 0s 0us/step\n",
            "Downloading data from https://storage.googleapis.com/tensorflow/tf-keras-datasets/t10k-labels-idx1-ubyte.gz\n",
            "8192/5148 [===============================================] - 0s 0us/step\n",
            "Downloading data from https://storage.googleapis.com/tensorflow/tf-keras-datasets/t10k-images-idx3-ubyte.gz\n",
            "4423680/4422102 [==============================] - 0s 0us/step\n"
          ],
          "name": "stdout"
        }
      ]
    },
    {
      "cell_type": "code",
      "metadata": {
        "id": "VRtI41paxtMq",
        "colab_type": "code",
        "outputId": "db4f2efc-aab6-4448-a3d4-9d97e5769bfc",
        "colab": {
          "base_uri": "https://localhost:8080/",
          "height": 85
        }
      },
      "source": [
        "print(x_train.shape)\n",
        "print(y_train.shape)\n",
        "print(x_test.shape)\n",
        "print(y_test.shape)"
      ],
      "execution_count": 14,
      "outputs": [
        {
          "output_type": "stream",
          "text": [
            "(60000, 28, 28)\n",
            "(60000,)\n",
            "(10000, 28, 28)\n",
            "(10000,)\n"
          ],
          "name": "stdout"
        }
      ]
    },
    {
      "cell_type": "code",
      "metadata": {
        "id": "jwhzYp0Y2Q4v",
        "colab_type": "code",
        "colab": {}
      },
      "source": [
        "X_train = x_train.astype('float32') / 255.\n",
        "X_test = x_test.astype('float32') /255."
      ],
      "execution_count": 0,
      "outputs": []
    },
    {
      "cell_type": "code",
      "metadata": {
        "id": "jPZVcr3Mxur8",
        "colab_type": "code",
        "outputId": "8ac8e0bb-6d07-432e-fa85-b5929f3a2587",
        "colab": {
          "base_uri": "https://localhost:8080/",
          "height": 34
        }
      },
      "source": [
        "y_train"
      ],
      "execution_count": 16,
      "outputs": [
        {
          "output_type": "execute_result",
          "data": {
            "text/plain": [
              "array([9, 0, 0, ..., 3, 0, 5], dtype=uint8)"
            ]
          },
          "metadata": {
            "tags": []
          },
          "execution_count": 16
        }
      ]
    },
    {
      "cell_type": "code",
      "metadata": {
        "id": "PhGHdTX1yq58",
        "colab_type": "code",
        "colab": {}
      },
      "source": [
        "# Encode data\n",
        "from tensorflow.keras import utils\n",
        "num_classes = 10\n",
        "y_train = utils.to_categorical(y_train, num_classes)\n",
        "y_test = utils.to_categorical(y_test, num_classes)"
      ],
      "execution_count": 0,
      "outputs": []
    },
    {
      "cell_type": "code",
      "metadata": {
        "id": "sxvLQSdn0p45",
        "colab_type": "code",
        "outputId": "11ada1b9-af0c-4947-df98-a5fde88b6063",
        "colab": {
          "base_uri": "https://localhost:8080/",
          "height": 136
        }
      },
      "source": [
        "y_train"
      ],
      "execution_count": 18,
      "outputs": [
        {
          "output_type": "execute_result",
          "data": {
            "text/plain": [
              "array([[0., 0., 0., ..., 0., 0., 1.],\n",
              "       [1., 0., 0., ..., 0., 0., 0.],\n",
              "       [1., 0., 0., ..., 0., 0., 0.],\n",
              "       ...,\n",
              "       [0., 0., 0., ..., 0., 0., 0.],\n",
              "       [1., 0., 0., ..., 0., 0., 0.],\n",
              "       [0., 0., 0., ..., 0., 0., 0.]], dtype=float32)"
            ]
          },
          "metadata": {
            "tags": []
          },
          "execution_count": 18
        }
      ]
    },
    {
      "cell_type": "code",
      "metadata": {
        "id": "FhW66-uN7cwL",
        "colab_type": "code",
        "outputId": "e5ab26e2-cf82-4335-b944-1933c266b135",
        "colab": {
          "base_uri": "https://localhost:8080/",
          "height": 85
        }
      },
      "source": [
        "print(X_train.shape)\n",
        "print(y_train.shape)\n",
        "print(X_test.shape)\n",
        "print(y_test.shape)"
      ],
      "execution_count": 19,
      "outputs": [
        {
          "output_type": "stream",
          "text": [
            "(60000, 28, 28)\n",
            "(60000, 10)\n",
            "(10000, 28, 28)\n",
            "(10000, 10)\n"
          ],
          "name": "stdout"
        }
      ]
    },
    {
      "cell_type": "code",
      "metadata": {
        "id": "5kNxIrS74BQO",
        "colab_type": "code",
        "colab": {}
      },
      "source": [
        "# Model\n",
        "stop = EarlyStopping(monitor='val_accuracy', min_delta=0.05, patience=3)\n",
        "\n",
        "model = Sequential([\n",
        "    Flatten(input_shape=(28,28)),\n",
        "    Dense(10, activation='relu'),\n",
        "    Dropout(.2),\n",
        "    Dense(10, activation='relu'),\n",
        "    Dropout(.2),\n",
        "    Dense(10, activation='softmax') # multiclass classifiaction\n",
        "]) "
      ],
      "execution_count": 0,
      "outputs": []
    },
    {
      "cell_type": "code",
      "metadata": {
        "id": "f97PYv2a4BMw",
        "colab_type": "code",
        "outputId": "e5bd61ed-7302-4bf9-fb40-36585548c6a1",
        "colab": {
          "base_uri": "https://localhost:8080/",
          "height": 816
        }
      },
      "source": [
        "# Compile Model\n",
        "model.compile(loss='categorical_crossentropy', optimizer='adam', metrics=['accuracy'])\n",
        "\n",
        "# Fit Model\n",
        "model.fit(X_train, y_train, epochs=999)"
      ],
      "execution_count": 0,
      "outputs": [
        {
          "output_type": "stream",
          "text": [
            "1875/1875 [==============================] - 3s 1ms/step - loss: 0.7213 - accuracy: 0.7355\n",
            "Epoch 973/999\n",
            "1875/1875 [==============================] - 3s 1ms/step - loss: 0.7251 - accuracy: 0.7326\n",
            "Epoch 974/999\n",
            "1875/1875 [==============================] - 3s 1ms/step - loss: 0.7219 - accuracy: 0.7350\n",
            "Epoch 975/999\n",
            "1875/1875 [==============================] - 3s 1ms/step - loss: 0.7231 - accuracy: 0.7340\n",
            "Epoch 976/999\n",
            "1875/1875 [==============================] - 3s 2ms/step - loss: 0.7302 - accuracy: 0.7316\n",
            "Epoch 977/999\n",
            "1875/1875 [==============================] - 3s 2ms/step - loss: 0.7209 - accuracy: 0.7331\n",
            "Epoch 978/999\n",
            "1875/1875 [==============================] - 3s 1ms/step - loss: 0.7262 - accuracy: 0.7352\n",
            "Epoch 979/999\n",
            "1875/1875 [==============================] - 3s 1ms/step - loss: 0.7215 - accuracy: 0.7328\n",
            "Epoch 980/999\n",
            "1875/1875 [==============================] - 3s 1ms/step - loss: 0.7257 - accuracy: 0.7339\n",
            "Epoch 981/999\n",
            "1875/1875 [==============================] - 3s 1ms/step - loss: 0.7212 - accuracy: 0.7343\n",
            "Epoch 982/999\n",
            "1875/1875 [==============================] - 3s 1ms/step - loss: 0.7230 - accuracy: 0.7331\n",
            "Epoch 983/999\n",
            "1875/1875 [==============================] - 3s 1ms/step - loss: 0.7332 - accuracy: 0.7309\n",
            "Epoch 984/999\n",
            "1875/1875 [==============================] - 3s 1ms/step - loss: 0.7317 - accuracy: 0.7329\n",
            "Epoch 985/999\n",
            "1875/1875 [==============================] - 3s 1ms/step - loss: 0.7222 - accuracy: 0.7356\n",
            "Epoch 986/999\n",
            "1875/1875 [==============================] - 3s 1ms/step - loss: 0.7220 - accuracy: 0.7333\n",
            "Epoch 987/999\n",
            "1875/1875 [==============================] - 3s 1ms/step - loss: 0.7226 - accuracy: 0.7326\n",
            "Epoch 988/999\n",
            "1875/1875 [==============================] - 3s 1ms/step - loss: 0.7270 - accuracy: 0.7304\n",
            "Epoch 989/999\n",
            "1875/1875 [==============================] - 3s 1ms/step - loss: 0.7201 - accuracy: 0.7367\n",
            "Epoch 990/999\n",
            "1875/1875 [==============================] - 3s 1ms/step - loss: 0.7251 - accuracy: 0.7309\n",
            "Epoch 991/999\n",
            "1875/1875 [==============================] - 3s 1ms/step - loss: 0.7270 - accuracy: 0.7328\n",
            "Epoch 992/999\n",
            "1875/1875 [==============================] - 3s 1ms/step - loss: 0.7272 - accuracy: 0.7318\n",
            "Epoch 993/999\n",
            "1875/1875 [==============================] - 3s 1ms/step - loss: 0.7257 - accuracy: 0.7342\n",
            "Epoch 994/999\n",
            "1875/1875 [==============================] - 3s 1ms/step - loss: 0.7256 - accuracy: 0.7298\n",
            "Epoch 995/999\n",
            "   1/1875 [..............................] - ETA: 0s - loss: 0.5706 - accuracy: 0.8438"
          ],
          "name": "stdout"
        }
      ]
    },
    {
      "cell_type": "code",
      "metadata": {
        "id": "DARk1Jpy4cL4",
        "colab_type": "code",
        "colab": {}
      },
      "source": [
        "# Evaluate Model\n",
        "model.evaluate(X_test,y_test)"
      ],
      "execution_count": 0,
      "outputs": []
    },
    {
      "cell_type": "markdown",
      "metadata": {
        "colab_type": "text",
        "id": "zv_3xNMjzdLI"
      },
      "source": [
        "## Stretch Goals:\n",
        "\n",
        "- Use Hyperparameter Tuning to make the accuracy of your models as high as possible. (error as low as possible)\n",
        "- Use Cross Validation techniques to get more consistent results with your model.\n",
        "- Use GridSearchCV to try different combinations of hyperparameters. \n",
        "- Start looking into other types of Keras layers for CNNs and RNNs maybe try and build a CNN model for fashion-MNIST to see how the results compare."
      ]
    }
  ]
}